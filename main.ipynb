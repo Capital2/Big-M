{
 "cells": [
  {
   "cell_type": "code",
   "execution_count": null,
   "metadata": {},
   "outputs": [],
   "source": [
    "%matplotlib widget\n",
    "import numpy as np\n",
    "from BigM import BigM\n",
    "from BigM import graph\n",
    "import pandas as pd\n",
    "import os\n",
    "\n",
    "\n",
    "fake_data = np.array([[1, 1, 0, 1], [1, 0, 1, -1], [0, 1, 1, 3],[20, 5, 10, 0], [-2, 0, 2, 0]]) \n",
    "big_m = BigM.BigM()\n",
    "iterations = big_m.runBigM(fake_data)\n",
    "iterations[0][0]\n",
    "\n"
   ]
  }
 ],
 "metadata": {
  "language_info": {
   "name": "python"
  },
  "orig_nbformat": 4
 },
 "nbformat": 4,
 "nbformat_minor": 2
}
